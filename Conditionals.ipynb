{
 "cells": [
  {
   "cell_type": "code",
   "execution_count": 3,
   "metadata": {},
   "outputs": [
    {
     "name": "stdout",
     "output_type": "stream",
     "text": [
      "Hello guj who is u years old\n"
     ]
    }
   ],
   "source": [
    "a = input(\"Your First Name:\")\n",
    "b = input(\"Your Last Name\")\n",
    "\n",
    "c = a + b\n",
    "\n",
    "d = input(\"Enter your age:\")\n",
    "\n",
    "if d == \"\" or a == \"\" or b == \"\" or d == int:\n",
    "    print(\"Please enter apporiate information!\")\n",
    "else:\n",
    "    print(\"Hello\", c , \"who is\" , d ,  \"years old\")\n",
    "\n",
    "\n",
    "\n"
   ]
  },
  {
   "cell_type": "code",
   "execution_count": 1,
   "metadata": {},
   "outputs": [
    {
     "name": "stdout",
     "output_type": "stream",
     "text": [
      "Your Math grade:          8.6\n",
      "Your Science grade:       7.9\n",
      "Your English grade:       7.6\n",
      "Average grade:            8.0\n",
      "Học lực:                 Giỏi\n"
     ]
    }
   ],
   "source": [
    "# M = float(input(\"Enter your Math's grade:\"))\n",
    "# S = float(input(\"Enter your Sience's grade:\"))\n",
    "# E = float(input(\"Enter your English's grade\"))\n",
    "\n",
    "M = 8.6\n",
    "E = 7.6\n",
    "S = 7.9\n",
    "\n",
    "print('{:15s}{:13.1f}'.format('Your Math grade:', M))\n",
    "print('{:15s}{:10.1f}'.format('Your Science grade:', S))\n",
    "print('{:15s}{:10.1f}'.format('Your English grade:', E))\n",
    "\n",
    "average = float((M + S + E) / 3)\n",
    "\n",
    "print('{:15s}{:14.1f}'.format('Average grade:', average))\n",
    "\n",
    "if average >= 8.0:\n",
    "    print('{:15s}{:>14s}'.format(\"Học lực:\", \"Giỏi\"))\n",
    "elif average >= 6.5:\n",
    "    print('{:15s}{:>14s}'.format(\"Học lực:\", \"Khá\"))\n",
    "elif average >= 5.0:\n",
    "    print('{:15s}{:>14s}'.format(\"Học lực:\", \"Trung Bình\"))\n",
    "else:\n",
    "    print(\"Thi lại\")"
   ]
  },
  {
   "cell_type": "code",
   "execution_count": 45,
   "metadata": {},
   "outputs": [
    {
     "name": "stdout",
     "output_type": "stream",
     "text": [
      "10 + 6 = 16\n",
      "10 - 6 = 4\n",
      "10 * 6 = 60\n",
      "10 / 6 = 1.6666666666666667\n",
      "10 // 6 = 1\n",
      "10 % 6 = 4\n"
     ]
    }
   ],
   "source": [
    "a = int(input(\"First Number:\"))\n",
    "b = int(input(\"Second Number:\"))\n",
    "\n",
    "c = a + b\n",
    "print(a, \"+\", b, \"=\", c)\n",
    "\n",
    "c = a - b \n",
    "print(a, \"-\", b, \"=\", c)\n",
    "\n",
    "c = a*b\n",
    "print(a, \"*\", b, \"=\", c)\n",
    "\n",
    "c = a / b\n",
    "print(a, \"/\", b, \"=\", c)\n",
    "\n",
    "c = a // b\n",
    "print(a, \"//\", b, \"=\",c)\n",
    "\n",
    "c = a%b\n",
    "print(a, \"%\", b, \"=\", c)\n"
   ]
  },
  {
   "cell_type": "code",
   "execution_count": 82,
   "metadata": {},
   "outputs": [
    {
     "name": "stdout",
     "output_type": "stream",
     "text": [
      "Login Successful\n"
     ]
    }
   ],
   "source": [
    "\n",
    "password = [12345,5412,123141,3142]\n",
    "login = int(input(\"Input your password:\"))\n",
    "\n",
    "if  login in password:\n",
    "    print(\"Login Successful\")\n",
    "else:\n",
    "    print(\"Login Unsuccessful\")\n",
    "\n"
   ]
  },
  {
   "cell_type": "code",
   "execution_count": null,
   "metadata": {},
   "outputs": [],
   "source": []
  },
  {
   "cell_type": "code",
   "execution_count": 171,
   "metadata": {},
   "outputs": [
    {
     "name": "stdout",
     "output_type": "stream",
     "text": [
      "|               REVENUE INFORMATION                |\n",
      "|Movie title:                     Avengers: Endgame|\n",
      "|Adult ticket price:                        15.00 $|\n",
      "|Children ticket price:                      5.00 $|\n",
      "|Adult tickets sold:                    349 tickets|\n",
      "|Children tickets sold:                 134 tickets|\n",
      "|Total revenue:                           5905.00 $|\n",
      "|Net income:                              5314.50 $|\n",
      "|Tax value:                                590.50 $|\n"
     ]
    }
   ],
   "source": [
    "#Excercise 3 \n",
    "\n",
    "#Seats Prices:\n",
    "#aldut ticket price:\n",
    "adult_price = 15.00\n",
    "#Child ticket price\n",
    "child_price = 5.00\n",
    "#Num of adult tickets sold:\n",
    "adult_sold = 349\n",
    "#Num of child tickets sold:\n",
    "child_sold = 134\n",
    "\n",
    "#Calculate revenue\n",
    "total_rev = float((adult_price * adult_sold) + (child_price * child_sold))\n",
    "\n",
    "#tax\n",
    "\n",
    "tax_val = total_rev * 0.1\n",
    "\n",
    "#net_income\n",
    "net_in = float(total_rev - tax_val)\n",
    "#title\n",
    "title = str(input(\"Search for a movie title:\"))\n",
    "\n",
    "if title in [\"Avengers: Endgame\", \"Avengers\",\"AE\",\"avengers\"]:\n",
    "    print('|{:^50s}|'.format(\"REVENUE INFORMATION\"))\n",
    "    print('|{:30s}{:>20s}|'.format(\"Movie title:\", \"Avengers: Endgame\"))\n",
    "    print('|{:30s}{:>18.2f} $|'.format(\"Adult ticket price:\",adult_price))\n",
    "    print('|{:30s}{:>18.2f} $|'.format(\"Children ticket price:\", child_price))\n",
    "    print('|{:30s}{:>12d} tickets|'.format(\"Adult tickets sold:\", adult_sold))\n",
    "    print('|{:30s}{:>12d} tickets|'.format(\"Children tickets sold:\", child_sold))\n",
    "    print('|{:30s}{:>18.2f} $|'.format(\"Total revenue:\", total_rev))\n",
    "    print('|{:30s}{:>18.2f} $|'.format(\"Net income:\", net_in))\n",
    "    print('|{:30s}{:>18.2f} $|'.format(\"Tax value:\", tax_val))\n",
    "\n",
    "else:\n",
    "    print(\"Information not available\")\n",
    "\n",
    "\n",
    "\n"
   ]
  },
  {
   "cell_type": "code",
   "execution_count": 170,
   "metadata": {},
   "outputs": [
    {
     "name": "stdout",
     "output_type": "stream",
     "text": [
      "sides not valid\n"
     ]
    }
   ],
   "source": [
    "# 3 sides of a triangle\n",
    "side1 = float(input(\"First side:\"))\n",
    "side2 = float(input(\"Second side:\"))\n",
    "side3 = float(input(\"Third side:\"))\n",
    "\n",
    "\n",
    "#check if all sides >3 \n",
    "\n",
    "if side1 > 0 and side2 > 0 and side3 > 0:\n",
    "    if side1 + side2 > side3:\n",
    "        print(\"triangle valid\")\n",
    "    elif side1 + side3 > side2:\n",
    "        print(\"triangle valid\")\n",
    "    elif side2 + side3 > side1:\n",
    "        print(\"triangle valid\")\n",
    "    else:\n",
    "        print(\"triangle not valid\")\n",
    "else:\n",
    "    print(\"sides not valid\")"
   ]
  }
 ],
 "metadata": {
  "kernelspec": {
   "display_name": "Python 3",
   "language": "python",
   "name": "python3"
  },
  "language_info": {
   "codemirror_mode": {
    "name": "ipython",
    "version": 3
   },
   "file_extension": ".py",
   "mimetype": "text/x-python",
   "name": "python",
   "nbconvert_exporter": "python",
   "pygments_lexer": "ipython3",
   "version": "3.11.1"
  },
  "orig_nbformat": 4,
  "vscode": {
   "interpreter": {
    "hash": "6ea922effd08b0ad03097e068333620979c48f991802ddd963a06adcf734ddb2"
   }
  }
 },
 "nbformat": 4,
 "nbformat_minor": 2
}
